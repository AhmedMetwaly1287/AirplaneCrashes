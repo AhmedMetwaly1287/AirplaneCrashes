{
 "cells": [
  {
   "cell_type": "code",
   "execution_count": 2,
   "metadata": {},
   "outputs": [],
   "source": [
    "from pyspark.sql import SparkSession\n",
    "from pyspark.sql.types import IntegerType, FloatType, StringType\n",
    "import pyspark.sql.functions as f\n",
    "from src.Extract.Extract import Extract\n",
    "from src.Load.Load import Load\n",
    "from src.Transform.Transform import Transform\n",
    "import great_expectations as gx"
   ]
  },
  {
   "cell_type": "code",
   "execution_count": 3,
   "metadata": {},
   "outputs": [
    {
     "name": "stdout",
     "output_type": "stream",
     "text": [
      "File Extracted from source successfully\n"
     ]
    }
   ],
   "source": [
    "df = Extract(\"Data/raw/dataset.csv\",\"csv\",{\"inferSchema\":\"true\",\"header\":\"true\"})"
   ]
  },
  {
   "cell_type": "code",
   "execution_count": 4,
   "metadata": {},
   "outputs": [
    {
     "name": "stdout",
     "output_type": "stream",
     "text": [
      "root\n",
      " |-- Date: string (nullable = true)\n",
      " |-- Time: string (nullable = true)\n",
      " |-- Location: string (nullable = true)\n",
      " |-- Operator: string (nullable = true)\n",
      " |-- Flight #: string (nullable = true)\n",
      " |-- Route: string (nullable = true)\n",
      " |-- Type: string (nullable = true)\n",
      " |-- Registration: string (nullable = true)\n",
      " |-- cn/In: string (nullable = true)\n",
      " |-- Aboard: integer (nullable = true)\n",
      " |-- Fatalities: integer (nullable = true)\n",
      " |-- Ground: integer (nullable = true)\n",
      " |-- Summary: string (nullable = true)\n",
      "\n"
     ]
    }
   ],
   "source": [
    "df.printSchema()"
   ]
  },
  {
   "cell_type": "code",
   "execution_count": 5,
   "metadata": {},
   "outputs": [
    {
     "data": {
      "text/plain": [
       "<bound method DataFrame.describe of DataFrame[Date: string, Time: string, Location: string, Operator: string, Flight #: string, Route: string, Type: string, Registration: string, cn/In: string, Aboard: int, Fatalities: int, Ground: int, Summary: string]>"
      ]
     },
     "execution_count": 5,
     "metadata": {},
     "output_type": "execute_result"
    }
   ],
   "source": [
    "df.describe"
   ]
  },
  {
   "cell_type": "code",
   "execution_count": 6,
   "metadata": {},
   "outputs": [
    {
     "name": "stdout",
     "output_type": "stream",
     "text": [
      "+----------+-----+----------------------------------+----------------------+--------+-------------+----------------------+------------+-----+------+----------+------+---------------------------------------------------------------------------------------------------------------------------------------------------------------------------------------------------------------------------------------------------------------------------------------------------------------------------------------------------------------------------------------------------------------------------------------------------------------------------------------------------------------------------+\n",
      "|Date      |Time |Location                          |Operator              |Flight #|Route        |Type                  |Registration|cn/In|Aboard|Fatalities|Ground|Summary                                                                                                                                                                                                                                                                                                                                                                                                                                                                                                                    |\n",
      "+----------+-----+----------------------------------+----------------------+--------+-------------+----------------------+------------+-----+------+----------+------+---------------------------------------------------------------------------------------------------------------------------------------------------------------------------------------------------------------------------------------------------------------------------------------------------------------------------------------------------------------------------------------------------------------------------------------------------------------------------------------------------------------------------+\n",
      "|09/17/1908|17:18|Fort Myer, Virginia               |Military - U.S. Army  |NULL    |Demonstration|Wright Flyer III      |NULL        |1    |2     |1         |0     |During a demonstration flight, a U.S. Army flyer flown by Orville Wright nose-dived into the ground from a height of approximately 75 feet, killing Lt. Thomas E. Selfridge who was a passenger. This was the first recorded airplane fatality in history.  One of two propellers separated in flight, tearing loose the wires bracing the rudder and causing the loss of control of the aircraft.  Orville Wright suffered broken ribs, pelvis and a leg.  Selfridge suffered a crushed skull and died a short time later.|\n",
      "|07/12/1912|06:30|AtlantiCity, New Jersey           |Military - U.S. Navy  |NULL    |Test flight  |Dirigible             |NULL        |NULL |5     |5         |0     |First U.S. dirigible Akron exploded just offshore at an altitude of 1,000 ft. during a test flight.                                                                                                                                                                                                                                                                                                                                                                                                                        |\n",
      "|08/06/1913|NULL |Victoria, British Columbia, Canada|Private               |-       |NULL         |Curtiss seaplane      |NULL        |NULL |1     |1         |0     |The first fatal airplane accident in Canada occurred when American barnstormer, John M. Bryant, California aviator was killed.                                                                                                                                                                                                                                                                                                                                                                                             |\n",
      "|09/09/1913|18:30|Over the North Sea                |Military - German Navy|NULL    |NULL         |Zeppelin L-1 (airship)|NULL        |NULL |20    |14        |0     |The airship flew into a thunderstorm and encountered a severe downdraft crashing 20 miles north of Helgoland Island into the sea. The ship broke in two and the control car immediately sank drowning its occupants.                                                                                                                                                                                                                                                                                                       |\n",
      "|10/17/1913|10:30|Near Johannisthal, Germany        |Military - German Navy|NULL    |NULL         |Zeppelin L-2 (airship)|NULL        |NULL |30    |30        |0     |Hydrogen gas which was being vented was sucked into the forward engine and ignited causing the airship to explode and burn at 3,000 ft..                                                                                                                                                                                                                                                                                                                                                                                   |\n",
      "+----------+-----+----------------------------------+----------------------+--------+-------------+----------------------+------------+-----+------+----------+------+---------------------------------------------------------------------------------------------------------------------------------------------------------------------------------------------------------------------------------------------------------------------------------------------------------------------------------------------------------------------------------------------------------------------------------------------------------------------------------------------------------------------------+\n",
      "only showing top 5 rows\n",
      "\n"
     ]
    }
   ],
   "source": [
    "df.show(5,truncate=False)"
   ]
  },
  {
   "cell_type": "markdown",
   "metadata": {},
   "source": [
    "#### **Setting Up Great_Expectations**\n",
    " - This python library will be used to check the quality of the data reisiding in the flat file ingested\n",
    " - We will start by setting up a context, which is our entry point to Great Expectations API and different functions\n",
    " - Adding a data source, which is the source our data resides in (Spark DF, Pandas DF, Database Table, Flat file, etc..)\n",
    " - Then adding a data asset which is the specific part of a data we wish to validate/check the quality of\n",
    " - Batch Definition is used for when we only need to retrieve a specific portion of the data inside our data asset we wish to handle (say data that came in a specific time period)\n",
    " - Finally the Batch is the data itself we are going to validate/check the quality of."
   ]
  },
  {
   "cell_type": "code",
   "execution_count": 7,
   "metadata": {},
   "outputs": [
    {
     "name": "stderr",
     "output_type": "stream",
     "text": [
      "c:\\Users\\nedvv\\AppData\\Local\\Programs\\Python\\Python312\\Lib\\site-packages\\posthog\\client.py:310: DeprecationWarning: datetime.datetime.utcnow() is deprecated and scheduled for removal in a future version. Use timezone-aware objects to represent datetimes in UTC: datetime.datetime.now(datetime.UTC).\n",
      "  timestamp = datetime.utcnow().replace(tzinfo=tzutc())\n"
     ]
    }
   ],
   "source": [
    "gxContext = gx.get_context()"
   ]
  },
  {
   "cell_type": "code",
   "execution_count": 8,
   "metadata": {},
   "outputs": [],
   "source": [
    "gxDataSource = gxContext.data_sources.add_spark(\"Airplane Crashes Spark Dataframe\")"
   ]
  },
  {
   "cell_type": "code",
   "execution_count": 9,
   "metadata": {},
   "outputs": [],
   "source": [
    "gxDataAsset = gxDataSource.add_dataframe_asset(\"Airplane Crashes Data Asset\")"
   ]
  },
  {
   "cell_type": "code",
   "execution_count": 10,
   "metadata": {},
   "outputs": [],
   "source": [
    "batchDef = gxDataAsset.add_batch_definition_whole_dataframe(\"Airplane Crashes Entire Dataframe\")"
   ]
  },
  {
   "cell_type": "code",
   "execution_count": 11,
   "metadata": {},
   "outputs": [],
   "source": [
    "dataBatch = batchDef.get_batch(batch_parameters={\"dataframe\":df})"
   ]
  },
  {
   "cell_type": "markdown",
   "metadata": {},
   "source": [
    "#### **Setting up our Expectations**\n",
    "- An expectation is self explanatory, it is what we expect from the column we are checking (to have no null values, to be unique and so on..)\n",
    "- We are going to set up two expectation suites to test the quality of the dataframe before and after transformation\n",
    "- An expectation suite is a bunch of expectations grouped together in order to test the dataframe against it all at once instead of writing each expectation indvidually.\n",
    "- The same suite will be used to test the raw and processed Data by passing two different batches to it (Raw Batch and Processed Batch)"
   ]
  },
  {
   "cell_type": "code",
   "execution_count": 12,
   "metadata": {},
   "outputs": [],
   "source": [
    "DateNotNull = gx.expectations.ExpectColumnValuesToNotBeNull(column=\"Date\")\n",
    "DateCorrectDT = gx.expectations.ExpectColumnValuesToBeOfType(column=\"Date\",type_=\"DateType\")\n",
    "AboardCorrectDT = gx.expectations.ExpectColumnValuesToBeOfType(column=\"Aboard\",type_=\"IntegerType\")\n",
    "FatalitiesCorrectDT = gx.expectations.ExpectColumnValuesToBeOfType(column=\"Fatalities\",type_=\"IntegerType\")\n",
    "LocationNotNull = gx.expectations.ExpectColumnValuesToNotBeNull(column=\"Location\")"
   ]
  },
  {
   "cell_type": "code",
   "execution_count": 13,
   "metadata": {},
   "outputs": [],
   "source": [
    "ExpectationSuite = gx.ExpectationSuite(\"Raw Dataframe Expectation Sute\")"
   ]
  },
  {
   "cell_type": "code",
   "execution_count": 14,
   "metadata": {},
   "outputs": [],
   "source": [
    "ExpSuite = gxContext.suites.add(ExpectationSuite)"
   ]
  },
  {
   "cell_type": "code",
   "execution_count": 15,
   "metadata": {},
   "outputs": [
    {
     "data": {
      "text/plain": [
       "ExpectColumnValuesToBeOfType(id='260dfe93-b212-432f-8d9d-dd85d8d21162', meta=None, notes=None, result_format=<ResultFormat.BASIC: 'BASIC'>, description=None, catch_exceptions=True, rendered_content=None, windows=None, batch_id=None, row_condition=None, condition_parser=None, column='Fatalities', mostly=1.0, type_='IntegerType')"
      ]
     },
     "execution_count": 15,
     "metadata": {},
     "output_type": "execute_result"
    }
   ],
   "source": [
    "ExpSuite.add_expectation(DateNotNull)\n",
    "ExpSuite.add_expectation(DateCorrectDT)\n",
    "ExpSuite.add_expectation(AboardCorrectDT)\n",
    "ExpSuite.add_expectation(LocationNotNull)\n",
    "ExpSuite.add_expectation(FatalitiesCorrectDT)"
   ]
  },
  {
   "cell_type": "code",
   "execution_count": 16,
   "metadata": {},
   "outputs": [
    {
     "name": "stdout",
     "output_type": "stream",
     "text": [
      "{\n",
      "  \"name\": \"Raw Dataframe Expectation Sute\",\n",
      "  \"id\": \"b2d970b9-373f-4b7c-885f-c38ba8769678\",\n",
      "  \"expectations\": [\n",
      "    {\n",
      "      \"type\": \"expect_column_values_to_not_be_null\",\n",
      "      \"kwargs\": {\n",
      "        \"column\": \"Date\"\n",
      "      },\n",
      "      \"meta\": {},\n",
      "      \"id\": \"d2c89024-cb0b-4e86-a972-4b843adaf4c3\"\n",
      "    },\n",
      "    {\n",
      "      \"type\": \"expect_column_values_to_be_of_type\",\n",
      "      \"kwargs\": {\n",
      "        \"column\": \"Date\",\n",
      "        \"type_\": \"DateType\"\n",
      "      },\n",
      "      \"meta\": {},\n",
      "      \"id\": \"f20c9619-1325-480e-94ec-3722caf69440\"\n",
      "    },\n",
      "    {\n",
      "      \"type\": \"expect_column_values_to_be_of_type\",\n",
      "      \"kwargs\": {\n",
      "        \"column\": \"Aboard\",\n",
      "        \"type_\": \"IntegerType\"\n",
      "      },\n",
      "      \"meta\": {},\n",
      "      \"id\": \"291af1fe-154f-4274-b1ed-7901ce07a509\"\n",
      "    },\n",
      "    {\n",
      "      \"type\": \"expect_column_values_to_not_be_null\",\n",
      "      \"kwargs\": {\n",
      "        \"column\": \"Location\"\n",
      "      },\n",
      "      \"meta\": {},\n",
      "      \"id\": \"1fbf9546-d690-496f-845c-383a1fe5e5bb\"\n",
      "    },\n",
      "    {\n",
      "      \"type\": \"expect_column_values_to_be_of_type\",\n",
      "      \"kwargs\": {\n",
      "        \"column\": \"Fatalities\",\n",
      "        \"type_\": \"IntegerType\"\n",
      "      },\n",
      "      \"meta\": {},\n",
      "      \"id\": \"260dfe93-b212-432f-8d9d-dd85d8d21162\"\n",
      "    }\n",
      "  ],\n",
      "  \"meta\": {\n",
      "    \"great_expectations_version\": \"1.1.3\"\n",
      "  },\n",
      "  \"notes\": null\n",
      "}\n"
     ]
    }
   ],
   "source": [
    "#Displaying the information inside the Expectaion Suite\n",
    "print(ExpSuite)"
   ]
  },
  {
   "cell_type": "code",
   "execution_count": 17,
   "metadata": {},
   "outputs": [
    {
     "name": "stderr",
     "output_type": "stream",
     "text": [
      "Calculating Metrics:  18%|█▊        | 3/17 [00:00<00:00, 160.09it/s]c:\\Users\\nedvv\\AppData\\Local\\Programs\\Python\\Python312\\Lib\\site-packages\\posthog\\request.py:26: DeprecationWarning: datetime.datetime.utcnow() is deprecated and scheduled for removal in a future version. Use timezone-aware objects to represent datetimes in UTC: datetime.datetime.now(datetime.UTC).\n",
      "  body[\"sentAt\"] = datetime.utcnow().replace(tzinfo=tzutc()).isoformat()\n",
      "Calculating Metrics: 100%|██████████| 17/17 [00:01<00:00, 11.68it/s]"
     ]
    },
    {
     "name": "stdout",
     "output_type": "stream",
     "text": [
      "{\n",
      "  \"name\": \"Raw Dataframe Expectation Sute\",\n",
      "  \"id\": \"b2d970b9-373f-4b7c-885f-c38ba8769678\",\n",
      "  \"expectations\": [\n",
      "    {\n",
      "      \"type\": \"expect_column_values_to_not_be_null\",\n",
      "      \"kwargs\": {\n",
      "        \"column\": \"Date\"\n",
      "      },\n",
      "      \"meta\": {},\n",
      "      \"id\": \"d2c89024-cb0b-4e86-a972-4b843adaf4c3\"\n",
      "    },\n",
      "    {\n",
      "      \"type\": \"expect_column_values_to_be_of_type\",\n",
      "      \"kwargs\": {\n",
      "        \"column\": \"Date\",\n",
      "        \"type_\": \"DateType\"\n",
      "      },\n",
      "      \"meta\": {},\n",
      "      \"id\": \"f20c9619-1325-480e-94ec-3722caf69440\"\n",
      "    },\n",
      "    {\n",
      "      \"type\": \"expect_column_values_to_be_of_type\",\n",
      "      \"kwargs\": {\n",
      "        \"column\": \"Aboard\",\n",
      "        \"type_\": \"IntegerType\"\n",
      "      },\n",
      "      \"meta\": {},\n",
      "      \"id\": \"291af1fe-154f-4274-b1ed-7901ce07a509\"\n",
      "    },\n",
      "    {\n",
      "      \"type\": \"expect_column_values_to_not_be_null\",\n",
      "      \"kwargs\": {\n",
      "        \"column\": \"Location\"\n",
      "      },\n",
      "      \"meta\": {},\n",
      "      \"id\": \"1fbf9546-d690-496f-845c-383a1fe5e5bb\"\n",
      "    },\n",
      "    {\n",
      "      \"type\": \"expect_column_values_to_be_of_type\",\n",
      "      \"kwargs\": {\n",
      "        \"column\": \"Fatalities\",\n",
      "        \"type_\": \"IntegerType\"\n",
      "      },\n",
      "      \"meta\": {},\n",
      "      \"id\": \"260dfe93-b212-432f-8d9d-dd85d8d21162\"\n",
      "    }\n",
      "  ],\n",
      "  \"meta\": {\n",
      "    \"great_expectations_version\": \"1.1.3\"\n",
      "  },\n",
      "  \"notes\": null\n",
      "}\n"
     ]
    },
    {
     "name": "stderr",
     "output_type": "stream",
     "text": [
      "\n"
     ]
    }
   ],
   "source": [
    "RawDataResult = dataBatch.validate(ExpSuite)\n",
    "\n",
    "print(ExpSuite)"
   ]
  },
  {
   "cell_type": "markdown",
   "metadata": {},
   "source": [
    "#### **Handling Missing Data in the Dataset**\n",
    "- Since the data residing inside our Dataframe is rather historical and it would be incorrect to fill missing values using the mean, median or mode, and since dropping Rows with Null values with a threshold of 3 (3 null values inside the same row), Missing textual data will be replaced with \"Not Found\", Missing numerical data will be replaced with 0 (apart from Aboard, Fatalities and Ground columns as to not tamper with historical data and lead to inaccurate data)\n",
    "\n",
    "#### **Handling incorrect Data types**\n",
    "- Columns of Incorrect DataTypes will be casted into the correct Data Type, refer to the Transform Function (src -> Transform -> Transform.py)"
   ]
  },
  {
   "cell_type": "code",
   "execution_count": 18,
   "metadata": {},
   "outputs": [],
   "source": [
    "ProcessedDF = Transform(df)"
   ]
  },
  {
   "cell_type": "code",
   "execution_count": 19,
   "metadata": {},
   "outputs": [
    {
     "name": "stdout",
     "output_type": "stream",
     "text": [
      "root\n",
      " |-- ID: long (nullable = false)\n",
      " |-- Date: date (nullable = true)\n",
      " |-- Time: string (nullable = false)\n",
      " |-- Location: string (nullable = false)\n",
      " |-- Operator: string (nullable = false)\n",
      " |-- Flight #: string (nullable = false)\n",
      " |-- Route: string (nullable = false)\n",
      " |-- Type: string (nullable = false)\n",
      " |-- Registration: string (nullable = false)\n",
      " |-- cn/In: string (nullable = false)\n",
      " |-- Aboard: integer (nullable = true)\n",
      " |-- Fatalities: integer (nullable = true)\n",
      " |-- Ground: integer (nullable = true)\n",
      "\n"
     ]
    }
   ],
   "source": [
    "ProcessedDF.printSchema()"
   ]
  },
  {
   "cell_type": "code",
   "execution_count": 20,
   "metadata": {},
   "outputs": [
    {
     "name": "stdout",
     "output_type": "stream",
     "text": [
      "+---+----------+---------+--------------------+--------------------+---------+-------------+--------------------+------------+---------+------+----------+------+\n",
      "| ID|      Date|     Time|            Location|            Operator| Flight #|        Route|                Type|Registration|    cn/In|Aboard|Fatalities|Ground|\n",
      "+---+----------+---------+--------------------+--------------------+---------+-------------+--------------------+------------+---------+------+----------+------+\n",
      "|  0|1908-09-17|    17:18| Fort Myer, Virginia|Military - U.S. Army|Not Found|Demonstration|    Wright Flyer III|   Not Found|        1|     2|         1|     0|\n",
      "|  1|1912-07-12|    06:30|AtlantiCity, New ...|Military - U.S. Navy|Not Found|  Test flight|           Dirigible|   Not Found|Not Found|     5|         5|     0|\n",
      "|  2|1913-08-06|Not Found|Victoria, British...|             Private|        -|    Not Found|    Curtiss seaplane|   Not Found|Not Found|     1|         1|     0|\n",
      "|  3|1913-09-09|    18:30|  Over the North Sea|Military - German...|Not Found|    Not Found|Zeppelin L-1 (air...|   Not Found|Not Found|    20|        14|     0|\n",
      "|  4|1913-10-17|    10:30|Near Johannisthal...|Military - German...|Not Found|    Not Found|Zeppelin L-2 (air...|   Not Found|Not Found|    30|        30|     0|\n",
      "+---+----------+---------+--------------------+--------------------+---------+-------------+--------------------+------------+---------+------+----------+------+\n",
      "only showing top 5 rows\n",
      "\n"
     ]
    }
   ],
   "source": [
    "ProcessedDF.show(5,truncate=True)"
   ]
  },
  {
   "cell_type": "code",
   "execution_count": 21,
   "metadata": {},
   "outputs": [],
   "source": [
    "ProcessedDF.write.csv(\"./Data/processed\",mode=\"overwrite\",header=True)"
   ]
  },
  {
   "cell_type": "markdown",
   "metadata": {},
   "source": [
    "#### **Testing the quality of the Processed Dataset**"
   ]
  },
  {
   "cell_type": "code",
   "execution_count": 22,
   "metadata": {},
   "outputs": [],
   "source": [
    "processedDataBatch = batchDef.get_batch(batch_parameters={\"dataframe\":ProcessedDF})"
   ]
  },
  {
   "cell_type": "code",
   "execution_count": 23,
   "metadata": {},
   "outputs": [
    {
     "name": "stderr",
     "output_type": "stream",
     "text": [
      "Calculating Metrics: 100%|██████████| 17/17 [00:00<00:00, 27.68it/s]"
     ]
    },
    {
     "name": "stdout",
     "output_type": "stream",
     "text": [
      "{\n",
      "  \"success\": true,\n",
      "  \"results\": [\n",
      "    {\n",
      "      \"success\": true,\n",
      "      \"expectation_config\": {\n",
      "        \"type\": \"expect_column_values_to_not_be_null\",\n",
      "        \"kwargs\": {\n",
      "          \"batch_id\": \"Airplane Crashes Spark Dataframe-Airplane Crashes Data Asset\",\n",
      "          \"column\": \"Date\"\n",
      "        },\n",
      "        \"meta\": {},\n",
      "        \"id\": \"d2c89024-cb0b-4e86-a972-4b843adaf4c3\"\n",
      "      },\n",
      "      \"result\": {\n",
      "        \"element_count\": 5268,\n",
      "        \"unexpected_count\": 0,\n",
      "        \"unexpected_percent\": 0.0,\n",
      "        \"partial_unexpected_list\": [],\n",
      "        \"partial_unexpected_counts\": []\n",
      "      },\n",
      "      \"meta\": {},\n",
      "      \"exception_info\": {\n",
      "        \"raised_exception\": false,\n",
      "        \"exception_traceback\": null,\n",
      "        \"exception_message\": null\n",
      "      }\n",
      "    },\n",
      "    {\n",
      "      \"success\": true,\n",
      "      \"expectation_config\": {\n",
      "        \"type\": \"expect_column_values_to_be_of_type\",\n",
      "        \"kwargs\": {\n",
      "          \"batch_id\": \"Airplane Crashes Spark Dataframe-Airplane Crashes Data Asset\",\n",
      "          \"column\": \"Date\",\n",
      "          \"type_\": \"DateType\"\n",
      "        },\n",
      "        \"meta\": {},\n",
      "        \"id\": \"f20c9619-1325-480e-94ec-3722caf69440\"\n",
      "      },\n",
      "      \"result\": {\n",
      "        \"observed_value\": \"DateType\"\n",
      "      },\n",
      "      \"meta\": {},\n",
      "      \"exception_info\": {\n",
      "        \"raised_exception\": false,\n",
      "        \"exception_traceback\": null,\n",
      "        \"exception_message\": null\n",
      "      }\n",
      "    },\n",
      "    {\n",
      "      \"success\": true,\n",
      "      \"expectation_config\": {\n",
      "        \"type\": \"expect_column_values_to_be_of_type\",\n",
      "        \"kwargs\": {\n",
      "          \"batch_id\": \"Airplane Crashes Spark Dataframe-Airplane Crashes Data Asset\",\n",
      "          \"column\": \"Aboard\",\n",
      "          \"type_\": \"IntegerType\"\n",
      "        },\n",
      "        \"meta\": {},\n",
      "        \"id\": \"291af1fe-154f-4274-b1ed-7901ce07a509\"\n",
      "      },\n",
      "      \"result\": {\n",
      "        \"observed_value\": \"IntegerType\"\n",
      "      },\n",
      "      \"meta\": {},\n",
      "      \"exception_info\": {\n",
      "        \"raised_exception\": false,\n",
      "        \"exception_traceback\": null,\n",
      "        \"exception_message\": null\n",
      "      }\n",
      "    },\n",
      "    {\n",
      "      \"success\": true,\n",
      "      \"expectation_config\": {\n",
      "        \"type\": \"expect_column_values_to_not_be_null\",\n",
      "        \"kwargs\": {\n",
      "          \"batch_id\": \"Airplane Crashes Spark Dataframe-Airplane Crashes Data Asset\",\n",
      "          \"column\": \"Location\"\n",
      "        },\n",
      "        \"meta\": {},\n",
      "        \"id\": \"1fbf9546-d690-496f-845c-383a1fe5e5bb\"\n",
      "      },\n",
      "      \"result\": {\n",
      "        \"element_count\": 5268,\n",
      "        \"unexpected_count\": 0,\n",
      "        \"unexpected_percent\": 0.0,\n",
      "        \"partial_unexpected_list\": [],\n",
      "        \"partial_unexpected_counts\": []\n",
      "      },\n",
      "      \"meta\": {},\n",
      "      \"exception_info\": {\n",
      "        \"raised_exception\": false,\n",
      "        \"exception_traceback\": null,\n",
      "        \"exception_message\": null\n",
      "      }\n",
      "    },\n",
      "    {\n",
      "      \"success\": true,\n",
      "      \"expectation_config\": {\n",
      "        \"type\": \"expect_column_values_to_be_of_type\",\n",
      "        \"kwargs\": {\n",
      "          \"batch_id\": \"Airplane Crashes Spark Dataframe-Airplane Crashes Data Asset\",\n",
      "          \"column\": \"Fatalities\",\n",
      "          \"type_\": \"IntegerType\"\n",
      "        },\n",
      "        \"meta\": {},\n",
      "        \"id\": \"260dfe93-b212-432f-8d9d-dd85d8d21162\"\n",
      "      },\n",
      "      \"result\": {\n",
      "        \"observed_value\": \"IntegerType\"\n",
      "      },\n",
      "      \"meta\": {},\n",
      "      \"exception_info\": {\n",
      "        \"raised_exception\": false,\n",
      "        \"exception_traceback\": null,\n",
      "        \"exception_message\": null\n",
      "      }\n",
      "    }\n",
      "  ],\n",
      "  \"suite_name\": \"Raw Dataframe Expectation Sute\",\n",
      "  \"suite_parameters\": {},\n",
      "  \"statistics\": {\n",
      "    \"evaluated_expectations\": 5,\n",
      "    \"successful_expectations\": 5,\n",
      "    \"unsuccessful_expectations\": 0,\n",
      "    \"success_percent\": 100.0\n",
      "  },\n",
      "  \"meta\": {\n",
      "    \"great_expectations_version\": \"1.1.3\",\n",
      "    \"batch_spec\": {\n",
      "      \"batch_data\": \"SparkDataFrame\"\n",
      "    },\n",
      "    \"batch_markers\": {\n",
      "      \"ge_load_time\": \"20241018T151746.174205Z\"\n",
      "    },\n",
      "    \"active_batch_definition\": {\n",
      "      \"datasource_name\": \"Airplane Crashes Spark Dataframe\",\n",
      "      \"data_connector_name\": \"fluent\",\n",
      "      \"data_asset_name\": \"Airplane Crashes Data Asset\",\n",
      "      \"batch_identifiers\": {\n",
      "        \"dataframe\": \"<DATAFRAME>\"\n",
      "      }\n",
      "    }\n",
      "  },\n",
      "  \"id\": null\n",
      "}\n"
     ]
    },
    {
     "name": "stderr",
     "output_type": "stream",
     "text": [
      "\n"
     ]
    }
   ],
   "source": [
    "processedDataResult = processedDataBatch.validate(ExpSuite)\n",
    "\n",
    "print(processedDataResult)"
   ]
  },
  {
   "cell_type": "markdown",
   "metadata": {},
   "source": [
    "#### **Loading Data into the Destination Database**\n"
   ]
  },
  {
   "cell_type": "code",
   "execution_count": null,
   "metadata": {},
   "outputs": [],
   "source": [
    "Load(ProcessedDF,\"airplanecrashes\",\"Processed\")"
   ]
  }
 ],
 "metadata": {
  "kernelspec": {
   "display_name": "Python 3",
   "language": "python",
   "name": "python3"
  },
  "language_info": {
   "codemirror_mode": {
    "name": "ipython",
    "version": 3
   },
   "file_extension": ".py",
   "mimetype": "text/x-python",
   "name": "python",
   "nbconvert_exporter": "python",
   "pygments_lexer": "ipython3",
   "version": "3.12.7"
  }
 },
 "nbformat": 4,
 "nbformat_minor": 2
}
