{
 "cells": [
  {
   "cell_type": "code",
   "execution_count": 14,
   "metadata": {},
   "outputs": [],
   "source": [
    "#Importing Libs and Creating Session\n",
    "from pyspark.sql import SparkSession\n",
    "from pyspark.sql.functions import substring,to_date,concat,lit,col,split\n",
    "\n",
    "spark = SparkSession.builder.appName(\"DataTransformation\").getOrCreate()"
   ]
  },
  {
   "cell_type": "code",
   "execution_count": 15,
   "metadata": {},
   "outputs": [
    {
     "ename": "AnalysisException",
     "evalue": "[PATH_NOT_FOUND] Path does not exist: file:/C:/Users/Ahmed/OneDrive/Desktop/SingleTable/cleanDS.",
     "output_type": "error",
     "traceback": [
      "\u001b[1;31m---------------------------------------------------------------------------\u001b[0m",
      "\u001b[1;31mAnalysisException\u001b[0m                         Traceback (most recent call last)",
      "Cell \u001b[1;32mIn[15], line 2\u001b[0m\n\u001b[0;32m      1\u001b[0m \u001b[38;5;66;03m#Reading CSV file\u001b[39;00m\n\u001b[1;32m----> 2\u001b[0m df \u001b[38;5;241m=\u001b[39m \u001b[43mspark\u001b[49m\u001b[38;5;241;43m.\u001b[39;49m\u001b[43mread\u001b[49m\u001b[38;5;241;43m.\u001b[39;49m\u001b[43mformat\u001b[49m\u001b[43m(\u001b[49m\u001b[38;5;124;43m\"\u001b[39;49m\u001b[38;5;124;43mcsv\u001b[39;49m\u001b[38;5;124;43m\"\u001b[39;49m\u001b[43m)\u001b[49m\u001b[38;5;241;43m.\u001b[39;49m\u001b[43mload\u001b[49m\u001b[43m(\u001b[49m\u001b[38;5;124;43m\"\u001b[39;49m\u001b[38;5;124;43mC:\u001b[39;49m\u001b[38;5;130;43;01m\\\\\u001b[39;49;00m\u001b[38;5;124;43mUsers\u001b[39;49m\u001b[38;5;130;43;01m\\\\\u001b[39;49;00m\u001b[38;5;124;43mAhmed\u001b[39;49m\u001b[38;5;130;43;01m\\\\\u001b[39;49;00m\u001b[38;5;124;43mOneDrive\u001b[39;49m\u001b[38;5;130;43;01m\\\\\u001b[39;49;00m\u001b[38;5;124;43mDesktop\u001b[39;49m\u001b[38;5;130;43;01m\\\\\u001b[39;49;00m\u001b[38;5;124;43mSingleTable\u001b[39;49m\u001b[38;5;130;43;01m\\\\\u001b[39;49;00m\u001b[38;5;124;43mcleanDS\u001b[39;49m\u001b[38;5;124;43m\"\u001b[39;49m\u001b[43m,\u001b[49m\u001b[43mheader\u001b[49m\u001b[38;5;241;43m=\u001b[39;49m\u001b[38;5;28;43;01mTrue\u001b[39;49;00m\u001b[43m)\u001b[49m\n",
      "File \u001b[1;32mc:\\Users\\Ahmed\\AppData\\Local\\Programs\\Python\\Python38\\lib\\site-packages\\pyspark\\sql\\readwriter.py:307\u001b[0m, in \u001b[0;36mDataFrameReader.load\u001b[1;34m(self, path, format, schema, **options)\u001b[0m\n\u001b[0;32m    305\u001b[0m \u001b[38;5;28mself\u001b[39m\u001b[38;5;241m.\u001b[39moptions(\u001b[38;5;241m*\u001b[39m\u001b[38;5;241m*\u001b[39moptions)\n\u001b[0;32m    306\u001b[0m \u001b[38;5;28;01mif\u001b[39;00m \u001b[38;5;28misinstance\u001b[39m(path, \u001b[38;5;28mstr\u001b[39m):\n\u001b[1;32m--> 307\u001b[0m     \u001b[38;5;28;01mreturn\u001b[39;00m \u001b[38;5;28mself\u001b[39m\u001b[38;5;241m.\u001b[39m_df(\u001b[38;5;28;43mself\u001b[39;49m\u001b[38;5;241;43m.\u001b[39;49m\u001b[43m_jreader\u001b[49m\u001b[38;5;241;43m.\u001b[39;49m\u001b[43mload\u001b[49m\u001b[43m(\u001b[49m\u001b[43mpath\u001b[49m\u001b[43m)\u001b[49m)\n\u001b[0;32m    308\u001b[0m \u001b[38;5;28;01melif\u001b[39;00m path \u001b[38;5;129;01mis\u001b[39;00m \u001b[38;5;129;01mnot\u001b[39;00m \u001b[38;5;28;01mNone\u001b[39;00m:\n\u001b[0;32m    309\u001b[0m     \u001b[38;5;28;01mif\u001b[39;00m \u001b[38;5;28mtype\u001b[39m(path) \u001b[38;5;241m!=\u001b[39m \u001b[38;5;28mlist\u001b[39m:\n",
      "File \u001b[1;32mc:\\Users\\Ahmed\\AppData\\Local\\Programs\\Python\\Python38\\lib\\site-packages\\py4j\\java_gateway.py:1322\u001b[0m, in \u001b[0;36mJavaMember.__call__\u001b[1;34m(self, *args)\u001b[0m\n\u001b[0;32m   1316\u001b[0m command \u001b[38;5;241m=\u001b[39m proto\u001b[38;5;241m.\u001b[39mCALL_COMMAND_NAME \u001b[38;5;241m+\u001b[39m\\\n\u001b[0;32m   1317\u001b[0m     \u001b[38;5;28mself\u001b[39m\u001b[38;5;241m.\u001b[39mcommand_header \u001b[38;5;241m+\u001b[39m\\\n\u001b[0;32m   1318\u001b[0m     args_command \u001b[38;5;241m+\u001b[39m\\\n\u001b[0;32m   1319\u001b[0m     proto\u001b[38;5;241m.\u001b[39mEND_COMMAND_PART\n\u001b[0;32m   1321\u001b[0m answer \u001b[38;5;241m=\u001b[39m \u001b[38;5;28mself\u001b[39m\u001b[38;5;241m.\u001b[39mgateway_client\u001b[38;5;241m.\u001b[39msend_command(command)\n\u001b[1;32m-> 1322\u001b[0m return_value \u001b[38;5;241m=\u001b[39m \u001b[43mget_return_value\u001b[49m\u001b[43m(\u001b[49m\n\u001b[0;32m   1323\u001b[0m \u001b[43m    \u001b[49m\u001b[43manswer\u001b[49m\u001b[43m,\u001b[49m\u001b[43m \u001b[49m\u001b[38;5;28;43mself\u001b[39;49m\u001b[38;5;241;43m.\u001b[39;49m\u001b[43mgateway_client\u001b[49m\u001b[43m,\u001b[49m\u001b[43m \u001b[49m\u001b[38;5;28;43mself\u001b[39;49m\u001b[38;5;241;43m.\u001b[39;49m\u001b[43mtarget_id\u001b[49m\u001b[43m,\u001b[49m\u001b[43m \u001b[49m\u001b[38;5;28;43mself\u001b[39;49m\u001b[38;5;241;43m.\u001b[39;49m\u001b[43mname\u001b[49m\u001b[43m)\u001b[49m\n\u001b[0;32m   1325\u001b[0m \u001b[38;5;28;01mfor\u001b[39;00m temp_arg \u001b[38;5;129;01min\u001b[39;00m temp_args:\n\u001b[0;32m   1326\u001b[0m     \u001b[38;5;28;01mif\u001b[39;00m \u001b[38;5;28mhasattr\u001b[39m(temp_arg, \u001b[38;5;124m\"\u001b[39m\u001b[38;5;124m_detach\u001b[39m\u001b[38;5;124m\"\u001b[39m):\n",
      "File \u001b[1;32mc:\\Users\\Ahmed\\AppData\\Local\\Programs\\Python\\Python38\\lib\\site-packages\\pyspark\\errors\\exceptions\\captured.py:185\u001b[0m, in \u001b[0;36mcapture_sql_exception.<locals>.deco\u001b[1;34m(*a, **kw)\u001b[0m\n\u001b[0;32m    181\u001b[0m converted \u001b[38;5;241m=\u001b[39m convert_exception(e\u001b[38;5;241m.\u001b[39mjava_exception)\n\u001b[0;32m    182\u001b[0m \u001b[38;5;28;01mif\u001b[39;00m \u001b[38;5;129;01mnot\u001b[39;00m \u001b[38;5;28misinstance\u001b[39m(converted, UnknownException):\n\u001b[0;32m    183\u001b[0m     \u001b[38;5;66;03m# Hide where the exception came from that shows a non-Pythonic\u001b[39;00m\n\u001b[0;32m    184\u001b[0m     \u001b[38;5;66;03m# JVM exception message.\u001b[39;00m\n\u001b[1;32m--> 185\u001b[0m     \u001b[38;5;28;01mraise\u001b[39;00m converted \u001b[38;5;28;01mfrom\u001b[39;00m \u001b[38;5;28;01mNone\u001b[39;00m\n\u001b[0;32m    186\u001b[0m \u001b[38;5;28;01melse\u001b[39;00m:\n\u001b[0;32m    187\u001b[0m     \u001b[38;5;28;01mraise\u001b[39;00m\n",
      "\u001b[1;31mAnalysisException\u001b[0m: [PATH_NOT_FOUND] Path does not exist: file:/C:/Users/Ahmed/OneDrive/Desktop/SingleTable/cleanDS."
     ]
    }
   ],
   "source": [
    "#Reading CSV file\n",
    "df = spark.read.format(\"csv\").load(\"C:\\\\Users\\\\Ahmed\\\\OneDrive\\\\Desktop\\\\SingleTable\\\\cleanDS\",header=True)"
   ]
  },
  {
   "cell_type": "code",
   "execution_count": 16,
   "metadata": {},
   "outputs": [
    {
     "ename": "NameError",
     "evalue": "name 'df' is not defined",
     "output_type": "error",
     "traceback": [
      "\u001b[1;31m---------------------------------------------------------------------------\u001b[0m",
      "\u001b[1;31mNameError\u001b[0m                                 Traceback (most recent call last)",
      "Cell \u001b[1;32mIn[16], line 2\u001b[0m\n\u001b[0;32m      1\u001b[0m \u001b[38;5;66;03m#Printing Schema\u001b[39;00m\n\u001b[1;32m----> 2\u001b[0m \u001b[43mdf\u001b[49m\u001b[38;5;241m.\u001b[39mprintSchema()\n",
      "\u001b[1;31mNameError\u001b[0m: name 'df' is not defined"
     ]
    }
   ],
   "source": [
    "#Printing Schema\n",
    "df.printSchema()"
   ]
  },
  {
   "cell_type": "code",
   "execution_count": null,
   "metadata": {},
   "outputs": [
    {
     "name": "stdout",
     "output_type": "stream",
     "text": [
      "+----------+-----+--------------------+--------------------+--------------------+\n",
      "|      Date| Time|            Location|               Route|                Type|\n",
      "+----------+-----+--------------------+--------------------+--------------------+\n",
      "|01/19/1930|18:23|Oceanside, Califo...|Aqua Caliente, Me...|Ford 5-AT-C Tri M...|\n",
      "|03/31/1931|10:45|      Bazaar, Kansas|Kansas City - Wic...|Fokker F10A Trimotor|\n",
      "|08/31/1934|23:42|  Amazonia, Missouri|  Omaha - St. Joseph|   Stinson  SM-6000B|\n",
      "|05/06/1935|03:30|   Atlanta, Missouri|Los Angeles - Alb...|    Douglas DC-2-112|\n",
      "|08/14/1935|23:45|  Near Gilmer, Texas|   Dallas -  Atlanta|     Stinson Model A|\n",
      "|10/07/1935|02:19|Near Cheyenne, Wy...|Salt Lake City - ...|         Boeing 247D|\n",
      "|01/14/1936|19:32|   Goodwin, Arkansas|Newark, NJ - Fort...|    Douglas DC-2-120|\n",
      "|04/07/1936|10:20|Uniontown, Pennsy...|Newark - Los Angeles|    Douglas DC-2-112|\n",
      "|12/15/1936|03:14|Near Salt Lake Ci...|Burbank - Las Veg...|         Boeing 247D|\n",
      "|12/19/1936|20:47|Near Milford, Pen...|Miami, FL - Charl...|    Douglas DC-2-112|\n",
      "|12/27/1936|19:38| Newhall, California|Oakland - San Fra...|        Boeing 247-D|\n",
      "|01/12/1937|11:07|Near Newhall, Cal...|Salt Lake City - ...|         Boeing 247B|\n",
      "|02/09/1937|20:50|Off San Francisco...|Los Angeles - San...|       Douglas DC-3A|\n",
      "|03/25/1937|18:40|Clifton, Pennsylv...|Newark - Camden -...|    Douglas DC-2-112|\n",
      "|05/06/1937|19:25|Lakehurst, New Je...|Frankfurt - Lakeh...|     Zeppelin LZ-129|\n",
      "|08/10/1937|04:40|Daytona Beach, Fl...|   Chicago - Daytona|        Douglas DC-2|\n",
      "|10/17/1937|21:00|Haydens Peak, Wyo...|Cheyenne - Salt L...|        Douglas DC-3|\n",
      "|01/10/1938|15:07|    Bozeman, Montana|Seattle - Billing...|Lockheed 14H Supe...|\n",
      "|01/11/1938|19:40|Pago Pago, U.S. S...|Honolulu - Pago P...|Sikorsky S-42 (fl...|\n",
      "|03/01/1938|21:30|Near Wawona, Cail...|San Francisco - B...|    Douglas DC-2-112|\n",
      "+----------+-----+--------------------+--------------------+--------------------+\n",
      "only showing top 20 rows\n",
      "\n"
     ]
    }
   ],
   "source": [
    "#Printing first 20 rows\n",
    "df.show(20)"
   ]
  },
  {
   "cell_type": "code",
   "execution_count": null,
   "metadata": {},
   "outputs": [],
   "source": [
    "#Transforming the Date column from DD/MM/YYYY format to YYYY format for easier operations\n",
    "df = df.withColumn(\"Date\", substring(df[\"Date\"], 7, 4))\n"
   ]
  },
  {
   "cell_type": "code",
   "execution_count": null,
   "metadata": {},
   "outputs": [
    {
     "name": "stdout",
     "output_type": "stream",
     "text": [
      "+----+-----+--------------------+--------------------+--------------------+\n",
      "|Date| Time|            Location|               Route|                Type|\n",
      "+----+-----+--------------------+--------------------+--------------------+\n",
      "|1930|18:23|Oceanside, Califo...|Aqua Caliente, Me...|Ford 5-AT-C Tri M...|\n",
      "|1931|10:45|      Bazaar, Kansas|Kansas City - Wic...|Fokker F10A Trimotor|\n",
      "|1934|23:42|  Amazonia, Missouri|  Omaha - St. Joseph|   Stinson  SM-6000B|\n",
      "|1935|03:30|   Atlanta, Missouri|Los Angeles - Alb...|    Douglas DC-2-112|\n",
      "|1935|23:45|  Near Gilmer, Texas|   Dallas -  Atlanta|     Stinson Model A|\n",
      "|1935|02:19|Near Cheyenne, Wy...|Salt Lake City - ...|         Boeing 247D|\n",
      "|1936|19:32|   Goodwin, Arkansas|Newark, NJ - Fort...|    Douglas DC-2-120|\n",
      "|1936|10:20|Uniontown, Pennsy...|Newark - Los Angeles|    Douglas DC-2-112|\n",
      "|1936|03:14|Near Salt Lake Ci...|Burbank - Las Veg...|         Boeing 247D|\n",
      "|1936|20:47|Near Milford, Pen...|Miami, FL - Charl...|    Douglas DC-2-112|\n",
      "|1936|19:38| Newhall, California|Oakland - San Fra...|        Boeing 247-D|\n",
      "|1937|11:07|Near Newhall, Cal...|Salt Lake City - ...|         Boeing 247B|\n",
      "|1937|20:50|Off San Francisco...|Los Angeles - San...|       Douglas DC-3A|\n",
      "|1937|18:40|Clifton, Pennsylv...|Newark - Camden -...|    Douglas DC-2-112|\n",
      "|1937|19:25|Lakehurst, New Je...|Frankfurt - Lakeh...|     Zeppelin LZ-129|\n",
      "|1937|04:40|Daytona Beach, Fl...|   Chicago - Daytona|        Douglas DC-2|\n",
      "|1937|21:00|Haydens Peak, Wyo...|Cheyenne - Salt L...|        Douglas DC-3|\n",
      "|1938|15:07|    Bozeman, Montana|Seattle - Billing...|Lockheed 14H Supe...|\n",
      "|1938|19:40|Pago Pago, U.S. S...|Honolulu - Pago P...|Sikorsky S-42 (fl...|\n",
      "|1938|21:30|Near Wawona, Cail...|San Francisco - B...|    Douglas DC-2-112|\n",
      "+----+-----+--------------------+--------------------+--------------------+\n",
      "only showing top 20 rows\n",
      "\n"
     ]
    }
   ],
   "source": [
    "df.show()"
   ]
  },
  {
   "cell_type": "code",
   "execution_count": null,
   "metadata": {},
   "outputs": [
    {
     "name": "stdout",
     "output_type": "stream",
     "text": [
      "+----+-----+--------------------+--------------------+--------------------+-------------+\n",
      "|Date| Time|            Location|               Route|                Type|CrashesInYear|\n",
      "+----+-----+--------------------+--------------------+--------------------+-------------+\n",
      "|1930|18:23|Oceanside, Califo...|Aqua Caliente, Me...|Ford 5-AT-C Tri M...|            1|\n",
      "|1931|10:45|      Bazaar, Kansas|Kansas City - Wic...|Fokker F10A Trimotor|            1|\n",
      "|1934|23:42|  Amazonia, Missouri|  Omaha - St. Joseph|   Stinson  SM-6000B|            1|\n",
      "|1935|03:30|   Atlanta, Missouri|Los Angeles - Alb...|    Douglas DC-2-112|            3|\n",
      "|1935|23:45|  Near Gilmer, Texas|   Dallas -  Atlanta|     Stinson Model A|            3|\n",
      "|1935|02:19|Near Cheyenne, Wy...|Salt Lake City - ...|         Boeing 247D|            3|\n",
      "|1936|19:32|   Goodwin, Arkansas|Newark, NJ - Fort...|    Douglas DC-2-120|            5|\n",
      "|1936|10:20|Uniontown, Pennsy...|Newark - Los Angeles|    Douglas DC-2-112|            5|\n",
      "|1936|03:14|Near Salt Lake Ci...|Burbank - Las Veg...|         Boeing 247D|            5|\n",
      "|1936|20:47|Near Milford, Pen...|Miami, FL - Charl...|    Douglas DC-2-112|            5|\n",
      "|1936|19:38| Newhall, California|Oakland - San Fra...|        Boeing 247-D|            5|\n",
      "|1937|11:07|Near Newhall, Cal...|Salt Lake City - ...|         Boeing 247B|            6|\n",
      "|1937|20:50|Off San Francisco...|Los Angeles - San...|       Douglas DC-3A|            6|\n",
      "|1937|18:40|Clifton, Pennsylv...|Newark - Camden -...|    Douglas DC-2-112|            6|\n",
      "|1937|19:25|Lakehurst, New Je...|Frankfurt - Lakeh...|     Zeppelin LZ-129|            6|\n",
      "|1937|04:40|Daytona Beach, Fl...|   Chicago - Daytona|        Douglas DC-2|            6|\n",
      "|1937|21:00|Haydens Peak, Wyo...|Cheyenne - Salt L...|        Douglas DC-3|            6|\n",
      "|1938|15:07|    Bozeman, Montana|Seattle - Billing...|Lockheed 14H Supe...|            6|\n",
      "|1938|19:40|Pago Pago, U.S. S...|Honolulu - Pago P...|Sikorsky S-42 (fl...|            6|\n",
      "|1938|21:30|Near Wawona, Cail...|San Francisco - B...|    Douglas DC-2-112|            6|\n",
      "+----+-----+--------------------+--------------------+--------------------+-------------+\n",
      "only showing top 20 rows\n",
      "\n"
     ]
    }
   ],
   "source": [
    "\n",
    "\n",
    "# Created a new Dataframe Grouping by the year and number of crashes in each year\n",
    "CrashesInYear = df.groupBy(\"Date\").count()\n",
    "CrashesInYear = CrashesInYear.withColumnRenamed(\"count\", \"CrashesInYear\")\n",
    "# Join the original DataFrame with the crash_counts DataFrame on the Date column\n",
    "df = df.join(CrashesInYear, \"Date\", \"left_outer\")\n",
    "# Show the resulting DataFrame\n",
    "df.show()"
   ]
  },
  {
   "cell_type": "code",
   "execution_count": null,
   "metadata": {},
   "outputs": [
    {
     "name": "stdout",
     "output_type": "stream",
     "text": [
      "+----+-----+-------------+----------------+--------------------+-------------+\n",
      "|Date| Time|     Location|           Route|                Type|CrashesInYear|\n",
      "+----+-----+-------------+----------------+--------------------+-------------+\n",
      "|1930|18:23|   California|     Los Angeles|Ford 5-AT-C Tri M...|            1|\n",
      "|1931|10:45|       Kansas|        Wichita |Fokker F10A Trimotor|            1|\n",
      "|1934|23:42|     Missouri|      St. Joseph|   Stinson  SM-6000B|            1|\n",
      "|1935|03:30|     Missouri|    Albuquerque |    Douglas DC-2-112|            3|\n",
      "|1935|23:45|        Texas|         Atlanta|     Stinson Model A|            3|\n",
      "|1935|02:19|      Wyoming|        Cheyenne|         Boeing 247D|            3|\n",
      "|1936|19:32|     Arkansas|  Fort Worth, TX|    Douglas DC-2-120|            5|\n",
      "|1936|10:20| Pennsylvania|     Los Angeles|    Douglas DC-2-112|            5|\n",
      "|1936|03:14|         Utah|      Las Vegas |         Boeing 247D|            5|\n",
      "|1936|20:47| Pennsylvania| Charleston, SC |    Douglas DC-2-112|            5|\n",
      "+----+-----+-------------+----------------+--------------------+-------------+\n",
      "only showing top 10 rows\n",
      "\n"
     ]
    }
   ],
   "source": [
    "#Split the Location Column and Only Kept the State's Name\n",
    "df = df.withColumn(\"Location\", split(\"Location\", \",\").getItem(1))\n",
    "#Split the Route Column and Only Kept the State's Name\n",
    "df = df.withColumn(\"Route\", split(\"Route\", \"-\").getItem(1))\n",
    "df.show(10)"
   ]
  },
  {
   "cell_type": "code",
   "execution_count": null,
   "metadata": {},
   "outputs": [
    {
     "name": "stdout",
     "output_type": "stream",
     "text": [
      "+-------------+----+-----+----------------+--------------------+-------------+--------------+\n",
      "|     Location|Date| Time|           Route|                Type|CrashesInYear|CrashesInPlace|\n",
      "+-------------+----+-----+----------------+--------------------+-------------+--------------+\n",
      "|   California|1930|18:23|     Los Angeles|Ford 5-AT-C Tri M...|            1|            43|\n",
      "|       Kansas|1931|10:45|        Wichita |Fokker F10A Trimotor|            1|             1|\n",
      "|     Missouri|1934|23:42|      St. Joseph|   Stinson  SM-6000B|            1|             9|\n",
      "|     Missouri|1935|03:30|    Albuquerque |    Douglas DC-2-112|            3|             9|\n",
      "|        Texas|1935|23:45|         Atlanta|     Stinson Model A|            3|            13|\n",
      "|      Wyoming|1935|02:19|        Cheyenne|         Boeing 247D|            3|             8|\n",
      "|     Arkansas|1936|19:32|  Fort Worth, TX|    Douglas DC-2-120|            5|             3|\n",
      "| Pennsylvania|1936|10:20|     Los Angeles|    Douglas DC-2-112|            5|            14|\n",
      "|         Utah|1936|03:14|      Las Vegas |         Boeing 247D|            5|             9|\n",
      "| Pennsylvania|1936|20:47| Charleston, SC |    Douglas DC-2-112|            5|            14|\n",
      "|   California|1936|19:38|  San Francisco |        Boeing 247-D|            5|            43|\n",
      "|   California|1937|11:07|         Burbank|         Boeing 247B|            6|            43|\n",
      "|   California|1937|20:50|  San Francisco |       Douglas DC-3A|            6|            43|\n",
      "| Pennsylvania|1937|18:40|         Camden |    Douglas DC-2-112|            6|            14|\n",
      "|   New Jersey|1937|19:25|  Lakehurst N.J.|     Zeppelin LZ-129|            6|             5|\n",
      "|      Florida|1937|04:40|         Daytona|        Douglas DC-2|            6|            12|\n",
      "|      Wyoming|1937|21:00|  Salt Lake City|        Douglas DC-3|            6|             8|\n",
      "|      Montana|1938|15:07|       Billings |Lockheed 14H Supe...|            6|             8|\n",
      "|   U.S. Samoa|1938|19:40|      Pago Pago |Sikorsky S-42 (fl...|            6|             1|\n",
      "|  Cailifornia|1938|21:30|         Burbank|    Douglas DC-2-112|            6|             1|\n",
      "+-------------+----+-----+----------------+--------------------+-------------+--------------+\n",
      "only showing top 20 rows\n",
      "\n"
     ]
    }
   ],
   "source": [
    "# Created a new Dataframe Grouping by the year and number of crashes in each year\n",
    "CrashesInPlace = df.groupBy(\"Location\").count()\n",
    "CrashesInPlace = CrashesInPlace.withColumnRenamed(\"count\", \"CrashesInPlace\")\n",
    "# Join the original DataFrame with the crash_counts DataFrame on the Date column\n",
    "df = df.join(CrashesInPlace, \"Location\", \"left_outer\")\n",
    "# Show the resulting DataFrame\n",
    "df.show()"
   ]
  },
  {
   "cell_type": "code",
   "execution_count": null,
   "metadata": {},
   "outputs": [],
   "source": [
    "# Created a new Dataframe Grouping by the year and number of crashes in each year\n",
    "FailureRate = df.groupBy(\"Type\").count()\n",
    "FailureRate = FailureRate.withColumnRenamed(\"count\", \"FailureRate\")\n",
    "# Join the original DataFrame with the crash_counts DataFrame on the Date column\n",
    "df = df.join(FailureRate, \"Type\", \"left_outer\")\n",
   ]
  }
   ],
   "source": [
    "#Cleaning the Data and Dropping Unnecessary Columns\n",
    "finalDF = df.dropna().drop(\"Route\",\"Time\").sort(\"Date\",ascending=True)\n",
    "#Displaying the Transformed Dataset\n",
    "finalDF.select(\"Date\",\"CrashesInYear\",\"Location\",\"CrashesInPlace\",\"Type\",\"FailureRate\").show(915)"
   ]
  },
  {
   "cell_type": "code",
   "execution_count": null,
   "metadata": {},
   "outputs": [],
   "source": [
    "#Splitting the new dataset to 2 separate datasets\n",
    "percent = [0.5,0.5]\n",
    "splitCSV = finalDF.randomSplit(weights=percent,seed=21)\n",
    "\n",
    "#Assigning the split CSV files to Variables\n",
    "DS1 = splitCSV[0]\n",
    "DS2 = splitCSV[1]\n",
    "\n",
    "#Saving new datasets\n",
    "DS1.write.csv(\"C:\\\\Users\\\\Ahmed\\\\OneDrive\\\\Desktop\\\\SingleTable\\\\DS1\", header=True, mode=\"overwrite\")\n",
    "DS2.write.csv(\"C:\\\\Users\\\\Ahmed\\\\OneDrive\\\\Desktop\\\\SingleTable\\\\DS2\", header=True, mode=\"overwrite\")"
   ]
  },
  {
   "cell_type": "code",
   "execution_count": null,
   "metadata": {},
   "outputs": [],
   "source": [
    "#Stopping spark session\n",
    "spark.stop()"
   ]
  }
 ],
 "metadata": {
  "kernelspec": {
   "display_name": "Python 3",
   "language": "python",
   "name": "python3"
  },
  "language_info": {
   "codemirror_mode": {
    "name": "ipython",
    "version": 3
   },
   "file_extension": ".py",
   "mimetype": "text/x-python",
   "name": "python",
   "nbconvert_exporter": "python",
   "pygments_lexer": "ipython3",
   "version": "3.8.0"
  }
 },
 "nbformat": 4,
 "nbformat_minor": 2
}
