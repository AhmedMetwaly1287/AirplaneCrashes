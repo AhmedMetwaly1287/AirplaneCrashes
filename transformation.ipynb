{
 "cells": [
  {
   "cell_type": "code",
   "execution_count": 14,
   "metadata": {},
   "outputs": [],
   "source": [
    "#Importing Libs and Creating Session\n",
    "from pyspark.sql import SparkSession\n",
    "from pyspark.sql.functions import substring,to_date,concat,lit,col,split\n",
    "\n",
    "spark = SparkSession.builder.appName(\"DataTransformation\").getOrCreate()"
   ]
  },
  {
   "cell_type": "code",
   "execution_count": 15,
   "metadata": {},
   "outputs": [],
   "source": [
    "#Reading CSV file\n",
    "df = spark.read.format(\"csv\").load(\"C:\\\\Users\\\\Ahmed\\\\OneDrive\\\\Desktop\\\\SingleTable\\\\cleanDS\",header=True)"
   ]
  },
  {
   "cell_type": "code",
   "execution_count": 16,
   "metadata": {},
   "outputs": [
    {
     "name": "stdout",
     "output_type": "stream",
     "text": [
      "root\n",
      " |-- Date: string (nullable = true)\n",
      " |-- Time: string (nullable = true)\n",
      " |-- Location: string (nullable = true)\n",
      " |-- Type: string (nullable = true)\n",
      "\n"
     ]
    }
   ],
   "source": [
    "#Printing Schema\n",
    "df.printSchema()"
   ]
  },
  {
   "cell_type": "code",
   "execution_count": 17,
   "metadata": {},
   "outputs": [
    {
     "name": "stdout",
     "output_type": "stream",
     "text": [
      "+----------+-----+--------------------+--------------------+\n",
      "|      Date| Time|            Location|                Type|\n",
      "+----------+-----+--------------------+--------------------+\n",
      "|01/19/1930|18:23|Oceanside, Califo...|Ford 5-AT-C Tri M...|\n",
      "|03/31/1931|10:45|      Bazaar, Kansas|Fokker F10A Trimotor|\n",
      "|08/31/1934|23:42|  Amazonia, Missouri|   Stinson  SM-6000B|\n",
      "|05/06/1935|03:30|   Atlanta, Missouri|    Douglas DC-2-112|\n",
      "|08/14/1935|23:45|  Near Gilmer, Texas|     Stinson Model A|\n",
      "|10/07/1935|02:19|Near Cheyenne, Wy...|         Boeing 247D|\n",
      "|01/14/1936|19:32|   Goodwin, Arkansas|    Douglas DC-2-120|\n",
      "|04/07/1936|10:20|Uniontown, Pennsy...|    Douglas DC-2-112|\n",
      "|12/15/1936|03:14|Near Salt Lake Ci...|         Boeing 247D|\n",
      "|12/19/1936|20:47|Near Milford, Pen...|    Douglas DC-2-112|\n",
      "|12/27/1936|19:38| Newhall, California|        Boeing 247-D|\n",
      "|01/12/1937|11:07|Near Newhall, Cal...|         Boeing 247B|\n",
      "|02/09/1937|20:50|Off San Francisco...|       Douglas DC-3A|\n",
      "|03/25/1937|18:40|Clifton, Pennsylv...|    Douglas DC-2-112|\n",
      "|05/06/1937|19:25|Lakehurst, New Je...|     Zeppelin LZ-129|\n",
      "|08/10/1937|04:40|Daytona Beach, Fl...|        Douglas DC-2|\n",
      "|10/17/1937|21:00|Haydens Peak, Wyo...|        Douglas DC-3|\n",
      "|01/10/1938|15:07|    Bozeman, Montana|Lockheed 14H Supe...|\n",
      "|01/11/1938|19:40|Pago Pago, U.S. S...|Sikorsky S-42 (fl...|\n",
      "|03/01/1938|21:30|Near Wawona, Cail...|    Douglas DC-2-112|\n",
      "+----------+-----+--------------------+--------------------+\n",
      "only showing top 20 rows\n",
      "\n"
     ]
    }
   ],
   "source": [
    "#Printing first 20 rows\n",
    "df.show(20)"
   ]
  },
  {
   "cell_type": "code",
   "execution_count": 18,
   "metadata": {},
   "outputs": [],
   "source": [
    "#Transforming the Date column from DD/MM/YYYY format to YYYY format for easier operations\n",
    "df = df.withColumn(\"Date\", substring(df[\"Date\"], 7, 4))\n"
   ]
  },
  {
   "cell_type": "code",
   "execution_count": 19,
   "metadata": {},
   "outputs": [
    {
     "name": "stdout",
     "output_type": "stream",
     "text": [
      "+----+-----+--------------------+--------------------+\n",
      "|Date| Time|            Location|                Type|\n",
      "+----+-----+--------------------+--------------------+\n",
      "|1930|18:23|Oceanside, Califo...|Ford 5-AT-C Tri M...|\n",
      "|1931|10:45|      Bazaar, Kansas|Fokker F10A Trimotor|\n",
      "|1934|23:42|  Amazonia, Missouri|   Stinson  SM-6000B|\n",
      "|1935|03:30|   Atlanta, Missouri|    Douglas DC-2-112|\n",
      "|1935|23:45|  Near Gilmer, Texas|     Stinson Model A|\n",
      "|1935|02:19|Near Cheyenne, Wy...|         Boeing 247D|\n",
      "|1936|19:32|   Goodwin, Arkansas|    Douglas DC-2-120|\n",
      "|1936|10:20|Uniontown, Pennsy...|    Douglas DC-2-112|\n",
      "|1936|03:14|Near Salt Lake Ci...|         Boeing 247D|\n",
      "|1936|20:47|Near Milford, Pen...|    Douglas DC-2-112|\n",
      "|1936|19:38| Newhall, California|        Boeing 247-D|\n",
      "|1937|11:07|Near Newhall, Cal...|         Boeing 247B|\n",
      "|1937|20:50|Off San Francisco...|       Douglas DC-3A|\n",
      "|1937|18:40|Clifton, Pennsylv...|    Douglas DC-2-112|\n",
      "|1937|19:25|Lakehurst, New Je...|     Zeppelin LZ-129|\n",
      "|1937|04:40|Daytona Beach, Fl...|        Douglas DC-2|\n",
      "|1937|21:00|Haydens Peak, Wyo...|        Douglas DC-3|\n",
      "|1938|15:07|    Bozeman, Montana|Lockheed 14H Supe...|\n",
      "|1938|19:40|Pago Pago, U.S. S...|Sikorsky S-42 (fl...|\n",
      "|1938|21:30|Near Wawona, Cail...|    Douglas DC-2-112|\n",
      "+----+-----+--------------------+--------------------+\n",
      "only showing top 20 rows\n",
      "\n"
     ]
    }
   ],
   "source": [
    "df.show()"
   ]
  },
  {
   "cell_type": "code",
   "execution_count": 20,
   "metadata": {},
   "outputs": [
    {
     "name": "stdout",
     "output_type": "stream",
     "text": [
      "+----+-----+--------------------+--------------------+-------------+\n",
      "|Date| Time|            Location|                Type|CrashesInYear|\n",
      "+----+-----+--------------------+--------------------+-------------+\n",
      "|1930|18:23|Oceanside, Califo...|Ford 5-AT-C Tri M...|            1|\n",
      "|1931|10:45|      Bazaar, Kansas|Fokker F10A Trimotor|            1|\n",
      "|1934|23:42|  Amazonia, Missouri|   Stinson  SM-6000B|            1|\n",
      "|1935|03:30|   Atlanta, Missouri|    Douglas DC-2-112|            3|\n",
      "|1935|23:45|  Near Gilmer, Texas|     Stinson Model A|            3|\n",
      "|1935|02:19|Near Cheyenne, Wy...|         Boeing 247D|            3|\n",
      "|1936|19:32|   Goodwin, Arkansas|    Douglas DC-2-120|            5|\n",
      "|1936|10:20|Uniontown, Pennsy...|    Douglas DC-2-112|            5|\n",
      "|1936|03:14|Near Salt Lake Ci...|         Boeing 247D|            5|\n",
      "|1936|20:47|Near Milford, Pen...|    Douglas DC-2-112|            5|\n",
      "|1936|19:38| Newhall, California|        Boeing 247-D|            5|\n",
      "|1937|11:07|Near Newhall, Cal...|         Boeing 247B|            6|\n",
      "|1937|20:50|Off San Francisco...|       Douglas DC-3A|            6|\n",
      "|1937|18:40|Clifton, Pennsylv...|    Douglas DC-2-112|            6|\n",
      "|1937|19:25|Lakehurst, New Je...|     Zeppelin LZ-129|            6|\n",
      "|1937|04:40|Daytona Beach, Fl...|        Douglas DC-2|            6|\n",
      "|1937|21:00|Haydens Peak, Wyo...|        Douglas DC-3|            6|\n",
      "|1938|15:07|    Bozeman, Montana|Lockheed 14H Supe...|            6|\n",
      "|1938|19:40|Pago Pago, U.S. S...|Sikorsky S-42 (fl...|            6|\n",
      "|1938|21:30|Near Wawona, Cail...|    Douglas DC-2-112|            6|\n",
      "+----+-----+--------------------+--------------------+-------------+\n",
      "only showing top 20 rows\n",
      "\n"
     ]
    }
   ],
   "source": [
    "\n",
    "\n",
    "# Created a new Dataframe Grouping by the year and number of crashes in each year\n",
    "CrashesInYear = df.groupBy(\"Date\").count()\n",
    "CrashesInYear = CrashesInYear.withColumnRenamed(\"count\", \"CrashesInYear\")\n",
    "# Join the original DataFrame with the crash_counts DataFrame on the Date column\n",
    "df = df.join(CrashesInYear, \"Date\", \"left_outer\")\n",
    "# Show the resulting DataFrame\n",
    "df.show()"
   ]
  },
  {
   "cell_type": "code",
   "execution_count": 21,
   "metadata": {},
   "outputs": [
    {
     "name": "stdout",
     "output_type": "stream",
     "text": [
      "+----+-----+-------------+--------------------+-------------+\n",
      "|Date| Time|     Location|                Type|CrashesInYear|\n",
      "+----+-----+-------------+--------------------+-------------+\n",
      "|1930|18:23|   California|Ford 5-AT-C Tri M...|            1|\n",
      "|1931|10:45|       Kansas|Fokker F10A Trimotor|            1|\n",
      "|1934|23:42|     Missouri|   Stinson  SM-6000B|            1|\n",
      "|1935|03:30|     Missouri|    Douglas DC-2-112|            3|\n",
      "|1935|23:45|        Texas|     Stinson Model A|            3|\n",
      "|1935|02:19|      Wyoming|         Boeing 247D|            3|\n",
      "|1936|19:32|     Arkansas|    Douglas DC-2-120|            5|\n",
      "|1936|10:20| Pennsylvania|    Douglas DC-2-112|            5|\n",
      "|1936|03:14|         Utah|         Boeing 247D|            5|\n",
      "|1936|20:47| Pennsylvania|    Douglas DC-2-112|            5|\n",
      "+----+-----+-------------+--------------------+-------------+\n",
      "only showing top 10 rows\n",
      "\n"
     ]
    }
   ],
   "source": [
    "#Split the Location Column and Only Kept the State's Name\n",
    "df = df.withColumn(\"Location\", split(\"Location\", \",\").getItem(1))\n",
    "df.show(10)"
   ]
  },
  {
   "cell_type": "code",
   "execution_count": 22,
   "metadata": {},
   "outputs": [
    {
     "name": "stdout",
     "output_type": "stream",
     "text": [
      "+-------------+----+-----+--------------------+-------------+--------------+\n",
      "|     Location|Date| Time|                Type|CrashesInYear|CrashesInPlace|\n",
      "+-------------+----+-----+--------------------+-------------+--------------+\n",
      "|   California|1930|18:23|Ford 5-AT-C Tri M...|            1|            43|\n",
      "|       Kansas|1931|10:45|Fokker F10A Trimotor|            1|             1|\n",
      "|     Missouri|1934|23:42|   Stinson  SM-6000B|            1|             9|\n",
      "|     Missouri|1935|03:30|    Douglas DC-2-112|            3|             9|\n",
      "|        Texas|1935|23:45|     Stinson Model A|            3|            13|\n",
      "|      Wyoming|1935|02:19|         Boeing 247D|            3|             8|\n",
      "|     Arkansas|1936|19:32|    Douglas DC-2-120|            5|             3|\n",
      "| Pennsylvania|1936|10:20|    Douglas DC-2-112|            5|            14|\n",
      "|         Utah|1936|03:14|         Boeing 247D|            5|             9|\n",
      "| Pennsylvania|1936|20:47|    Douglas DC-2-112|            5|            14|\n",
      "|   California|1936|19:38|        Boeing 247-D|            5|            43|\n",
      "|   California|1937|11:07|         Boeing 247B|            6|            43|\n",
      "|   California|1937|20:50|       Douglas DC-3A|            6|            43|\n",
      "| Pennsylvania|1937|18:40|    Douglas DC-2-112|            6|            14|\n",
      "|   New Jersey|1937|19:25|     Zeppelin LZ-129|            6|             5|\n",
      "|      Florida|1937|04:40|        Douglas DC-2|            6|            12|\n",
      "|      Wyoming|1937|21:00|        Douglas DC-3|            6|             8|\n",
      "|      Montana|1938|15:07|Lockheed 14H Supe...|            6|             8|\n",
      "|   U.S. Samoa|1938|19:40|Sikorsky S-42 (fl...|            6|             1|\n",
      "|  Cailifornia|1938|21:30|    Douglas DC-2-112|            6|             1|\n",
      "+-------------+----+-----+--------------------+-------------+--------------+\n",
      "only showing top 20 rows\n",
      "\n"
     ]
    }
   ],
   "source": [
    "# Created a new Dataframe Grouping by the year and number of crashes in each year\n",
    "CrashesInPlace = df.groupBy(\"Location\").count()\n",
    "CrashesInPlace = CrashesInPlace.withColumnRenamed(\"count\", \"CrashesInPlace\")\n",
    "# Join the original DataFrame with the crash_counts DataFrame on the Date column\n",
    "df = df.join(CrashesInPlace, \"Location\", \"left_outer\")\n",
    "# Show the resulting DataFrame\n",
    "df.show()"
   ]
  },
  {
   "cell_type": "code",
   "execution_count": 23,
   "metadata": {},
   "outputs": [
    {
     "name": "stdout",
     "output_type": "stream",
     "text": [
      "+--------------------+-------------+----+-----+-------------+--------------+-----------+\n",
      "|                Type|     Location|Date| Time|CrashesInYear|CrashesInPlace|FailureRate|\n",
      "+--------------------+-------------+----+-----+-------------+--------------+-----------+\n",
      "|Ford 5-AT-C Tri M...|   California|1930|18:23|            1|            43|          1|\n",
      "|Fokker F10A Trimotor|       Kansas|1931|10:45|            1|             1|          1|\n",
      "|   Stinson  SM-6000B|     Missouri|1934|23:42|            1|             9|          1|\n",
      "|    Douglas DC-2-112|     Missouri|1935|03:30|            3|             9|          6|\n",
      "|     Stinson Model A|        Texas|1935|23:45|            3|            13|          1|\n",
      "|         Boeing 247D|      Wyoming|1935|02:19|            3|             8|          2|\n",
      "|    Douglas DC-2-120|     Arkansas|1936|19:32|            5|             3|          1|\n",
      "|    Douglas DC-2-112| Pennsylvania|1936|10:20|            5|            14|          6|\n",
      "|         Boeing 247D|         Utah|1936|03:14|            5|             9|          2|\n",
      "|    Douglas DC-2-112| Pennsylvania|1936|20:47|            5|            14|          6|\n",
      "+--------------------+-------------+----+-----+-------------+--------------+-----------+\n",
      "only showing top 10 rows\n",
      "\n"
     ]
    }
   ],
   "source": [
    "# Created a new Dataframe Grouping by the year and number of crashes in each year\n",
    "FailureRate = df.groupBy(\"Type\").count()\n",
    "FailureRate = FailureRate.withColumnRenamed(\"count\", \"FailureRate\")\n",
    "# Join the original DataFrame with the crash_counts DataFrame on the Date column\n",
    "df = df.join(FailureRate, \"Type\", \"left_outer\")\n",
    "# Show the resulting DataFrame\n",
    "df.show(10)"
   ]
  },
  {
   "cell_type": "code",
   "execution_count": 24,
   "metadata": {},
   "outputs": [
    {
     "name": "stdout",
     "output_type": "stream",
     "text": [
      "+----+-------------+-------------+--------------+--------------------+-----------+\n",
      "|Date|CrashesInYear|     Location|CrashesInPlace|                Type|FailureRate|\n",
      "+----+-------------+-------------+--------------+--------------------+-----------+\n",
      "|1930|            1|   California|            43|Ford 5-AT-C Tri M...|          1|\n",
      "|1931|            1|       Kansas|             1|Fokker F10A Trimotor|          1|\n",
      "|1934|            1|     Missouri|             9|   Stinson  SM-6000B|          1|\n",
      "|1935|            3|     Missouri|             9|    Douglas DC-2-112|          6|\n",
      "|1935|            3|        Texas|            13|     Stinson Model A|          1|\n",
      "|1935|            3|      Wyoming|             8|         Boeing 247D|          2|\n",
      "|1936|            5|     Arkansas|             3|    Douglas DC-2-120|          1|\n",
      "|1936|            5| Pennsylvania|            14|    Douglas DC-2-112|          6|\n",
      "|1936|            5|         Utah|             9|         Boeing 247D|          2|\n",
      "|1936|            5| Pennsylvania|            14|    Douglas DC-2-112|          6|\n",
      "|1936|            5|   California|            43|        Boeing 247-D|          1|\n",
      "|1937|            6|   California|            43|         Boeing 247B|          1|\n",
      "|1937|            6|   California|            43|       Douglas DC-3A|          5|\n",
      "|1937|            6| Pennsylvania|            14|    Douglas DC-2-112|          6|\n",
      "|1937|            6|   New Jersey|             5|     Zeppelin LZ-129|          1|\n",
      "|1937|            6|      Florida|            12|        Douglas DC-2|          1|\n",
      "|1937|            6|      Wyoming|             8|        Douglas DC-3|         53|\n",
      "|1938|            6|      Montana|             8|Lockheed 14H Supe...|          1|\n",
      "|1938|            6|   U.S. Samoa|             1|Sikorsky S-42 (fl...|          2|\n",
      "|1938|            6|  Cailifornia|             1|    Douglas DC-2-112|          6|\n",
      "+----+-------------+-------------+--------------+--------------------+-----------+\n",
      "only showing top 20 rows\n",
      "\n"
     ]
    }
   ],
   "source": [
    "#Cleaning the Data and Dropping Unnecessary Columns\n",
    "finalDF = df.dropna().drop(\"Route\",\"Time\").sort(\"Date\",ascending=True)\n",
    "#Displaying the Transformed Dataset\n",
    "finalDF.select(\"Date\",\"CrashesInYear\",\"Location\",\"CrashesInPlace\",\"Type\",\"FailureRate\").show()"
   ]
  },
  {
   "cell_type": "code",
   "execution_count": 25,
   "metadata": {},
   "outputs": [],
   "source": [
    "#Splitting the new dataset to 2 separate datasets\n",
    "percent = [0.5,0.5]\n",
    "splitCSV = finalDF.randomSplit(weights=percent,seed=21)\n",
    "\n",
    "#Assigning the split CSV files to Variables\n",
    "DS1 = splitCSV[0]\n",
    "DS2 = splitCSV[1]\n",
    "\n",
    "#Saving new datasets\n",
    "DS1.write.csv(\"C:\\\\Users\\\\Ahmed\\\\OneDrive\\\\Desktop\\\\SingleTable\\\\DS1\", header=True, mode=\"overwrite\")\n",
    "DS2.write.csv(\"C:\\\\Users\\\\Ahmed\\\\OneDrive\\\\Desktop\\\\SingleTable\\\\DS2\", header=True, mode=\"overwrite\")"
   ]
  },
  {
   "cell_type": "code",
   "execution_count": null,
   "metadata": {},
   "outputs": [],
   "source": [
    "#Stopping spark session\n",
    "spark.stop()"
   ]
  }
 ],
 "metadata": {
  "kernelspec": {
   "display_name": "Python 3",
   "language": "python",
   "name": "python3"
  },
  "language_info": {
   "codemirror_mode": {
    "name": "ipython",
    "version": 3
   },
   "file_extension": ".py",
   "mimetype": "text/x-python",
   "name": "python",
   "nbconvert_exporter": "python",
   "pygments_lexer": "ipython3",
   "version": "3.8.0"
  }
 },
 "nbformat": 4,
 "nbformat_minor": 2
}
