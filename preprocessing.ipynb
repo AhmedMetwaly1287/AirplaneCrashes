{
 "cells": [
  {
   "cell_type": "code",
   "execution_count": 1,
   "metadata": {},
   "outputs": [],
   "source": [
    "#Importing Libs and Creating Session\n",
    "from pyspark.sql import SparkSession\n",
    "\n",
    "spark = SparkSession.builder.appName(\"DataPreprocessing\").getOrCreate()\n"
   ]
  },
  {
   "cell_type": "code",
   "execution_count": 2,
   "metadata": {},
   "outputs": [],
   "source": [
    "#Reading CSV file\n",
    "df = spark.read.csv(\"C:\\\\Users\\\\Ahmed\\\\OneDrive\\\\Desktop\\\\SingleTable\\\\unprocDS\\\\dataset.csv\",header=True)"
   ]
  },
  {
   "cell_type": "code",
   "execution_count": 3,
   "metadata": {},
   "outputs": [
    {
     "name": "stdout",
     "output_type": "stream",
     "text": [
      "root\n",
      " |-- Date: string (nullable = true)\n",
      " |-- Time: string (nullable = true)\n",
      " |-- Location: string (nullable = true)\n",
      " |-- Operator: string (nullable = true)\n",
      " |-- Flight #: string (nullable = true)\n",
      " |-- Route: string (nullable = true)\n",
      " |-- Type: string (nullable = true)\n",
      " |-- Registration: string (nullable = true)\n",
      " |-- cn/In: string (nullable = true)\n",
      " |-- Aboard: string (nullable = true)\n",
      " |-- Fatalities: string (nullable = true)\n",
      " |-- Ground: string (nullable = true)\n",
      " |-- Summary: string (nullable = true)\n",
      "\n"
     ]
    }
   ],
   "source": [
    "#Display Schema\n",
    "df.printSchema()"
   ]
  },
  {
   "cell_type": "code",
   "execution_count": 4,
   "metadata": {},
   "outputs": [
    {
     "name": "stdout",
     "output_type": "stream",
     "text": [
      "+----------+-----+--------------------+--------------------+--------+-------------+--------------------+------------+-----+------+----------+------+--------------------+\n",
      "|      Date| Time|            Location|            Operator|Flight #|        Route|                Type|Registration|cn/In|Aboard|Fatalities|Ground|             Summary|\n",
      "+----------+-----+--------------------+--------------------+--------+-------------+--------------------+------------+-----+------+----------+------+--------------------+\n",
      "|09/17/1908|17:18| Fort Myer, Virginia|Military - U.S. Army|    NULL|Demonstration|    Wright Flyer III|        NULL|    1|     2|         1|     0|During a demonstr...|\n",
      "|07/12/1912|06:30|AtlantiCity, New ...|Military - U.S. Navy|    NULL|  Test flight|           Dirigible|        NULL| NULL|     5|         5|     0|First U.S. dirigi...|\n",
      "|08/06/1913| NULL|Victoria, British...|             Private|       -|         NULL|    Curtiss seaplane|        NULL| NULL|     1|         1|     0|The first fatal a...|\n",
      "|09/09/1913|18:30|  Over the North Sea|Military - German...|    NULL|         NULL|Zeppelin L-1 (air...|        NULL| NULL|    20|        14|     0|The airship flew ...|\n",
      "|10/17/1913|10:30|Near Johannisthal...|Military - German...|    NULL|         NULL|Zeppelin L-2 (air...|        NULL| NULL|    30|        30|     0|Hydrogen gas whic...|\n",
      "|03/05/1915|01:00|     Tienen, Belgium|Military - German...|    NULL|         NULL|Zeppelin L-8 (air...|        NULL| NULL|    41|        21|     0|Crashed into tree...|\n",
      "|09/03/1915|15:20|Off Cuxhaven, Ger...|Military - German...|    NULL|         NULL|Zeppelin L-10 (ai...|        NULL| NULL|    19|        19|     0|Exploded and burn...|\n",
      "|07/28/1916| NULL|Near Jambol, Bulg...|Military - German...|    NULL|         NULL|Schutte-Lanz S-L-...|        NULL| NULL|    20|        20|     0|Crashed near the ...|\n",
      "|09/24/1916|01:00| Billericay, England|Military - German...|    NULL|         NULL|Zeppelin L-32 (ai...|        NULL| NULL|    22|        22|     0|Shot down by Brit...|\n",
      "|10/01/1916|23:45|Potters Bar, England|Military - German...|    NULL|         NULL|Zeppelin L-31 (ai...|        NULL| NULL|    19|        19|     0|Shot down in flam...|\n",
      "+----------+-----+--------------------+--------------------+--------+-------------+--------------------+------------+-----+------+----------+------+--------------------+\n",
      "only showing top 10 rows\n",
      "\n"
     ]
    }
   ],
   "source": [
    "#Display Contents of File\n",
    "df.show(10)"
   ]
  },
  {
   "cell_type": "code",
   "execution_count": 5,
   "metadata": {},
   "outputs": [
    {
     "name": "stdout",
     "output_type": "stream",
     "text": [
      "+----------+-----+--------------------+--------------------+\n",
      "|      Date| Time|            Location|                Type|\n",
      "+----------+-----+--------------------+--------------------+\n",
      "|01/19/1930|18:23|Oceanside, Califo...|Ford 5-AT-C Tri M...|\n",
      "|03/31/1931|10:45|      Bazaar, Kansas|Fokker F10A Trimotor|\n",
      "|08/31/1934|23:42|  Amazonia, Missouri|   Stinson  SM-6000B|\n",
      "|05/06/1935|03:30|   Atlanta, Missouri|    Douglas DC-2-112|\n",
      "|08/14/1935|23:45|  Near Gilmer, Texas|     Stinson Model A|\n",
      "|10/07/1935|02:19|Near Cheyenne, Wy...|         Boeing 247D|\n",
      "|01/14/1936|19:32|   Goodwin, Arkansas|    Douglas DC-2-120|\n",
      "|04/07/1936|10:20|Uniontown, Pennsy...|    Douglas DC-2-112|\n",
      "|12/15/1936|03:14|Near Salt Lake Ci...|         Boeing 247D|\n",
      "|12/19/1936|20:47|Near Milford, Pen...|    Douglas DC-2-112|\n",
      "+----------+-----+--------------------+--------------------+\n",
      "only showing top 10 rows\n",
      "\n"
     ]
    }
   ],
   "source": [
    "#Dropping Unnecessary Columns and Rows with NULL values\n",
    "cleanDF = df.dropna().drop(\"Operator\",\"Flight #\",\"Registration\",\"Route\",\"cn/In\",\"Aboard\",\"Fatalities\",\"Ground\",\"Summary\")\n",
    "cleanDF.show(10)"
   ]
  },
  {
   "cell_type": "code",
   "execution_count": 6,
   "metadata": {},
   "outputs": [],
   "source": [
    "#Saving the clean dataset before splitting\n",
    "cleanDF.write.csv(\"C:\\\\Users\\\\Ahmed\\\\OneDrive\\\\Desktop\\\\SingleTable\\\\cleanDS\", header=True, mode=\"overwrite\")"
   ]
  },
  {
   "cell_type": "code",
   "execution_count": 7,
   "metadata": {},
   "outputs": [],
   "source": [
    "#Stopping the Spark Session\n",
    "spark.stop()"
   ]
  }
 ],
 "metadata": {
  "kernelspec": {
   "display_name": "Python 3",
   "language": "python",
   "name": "python3"
  },
  "language_info": {
   "codemirror_mode": {
    "name": "ipython",
    "version": 3
   },
   "file_extension": ".py",
   "mimetype": "text/x-python",
   "name": "python",
   "nbconvert_exporter": "python",
   "pygments_lexer": "ipython3",
   "version": "3.8.0"
  }
 },
 "nbformat": 4,
 "nbformat_minor": 2
}
